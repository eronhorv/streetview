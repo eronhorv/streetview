{
 "cells": [
  {
   "cell_type": "code",
   "execution_count": 1,
   "metadata": {},
   "outputs": [],
   "source": [
    "import pandas as pd\n",
    "from PIL import Image\n",
    "import io\n",
    "import numpy as np\n",
    "import pickle\n",
    "import matplotlib.pyplot as plt\n",
    "import torch\n",
    "import torchvision\n",
    "import torchvision.transforms as transforms\n",
    "import torch.nn as nn\n",
    "import torch.nn.functional as F\n",
    "import torch.optim as optim"
   ]
  },
  {
   "cell_type": "code",
   "execution_count": 2,
   "metadata": {},
   "outputs": [],
   "source": [
    "if torch.cuda.is_available():\n",
    "  torch.set_default_device('cuda')\n",
    "  device = 'cuda'\n",
    "else:\n",
    "  device = 'cpu'"
   ]
  },
  {
   "cell_type": "code",
   "execution_count": 3,
   "metadata": {},
   "outputs": [],
   "source": [
    "class Net(nn.Module):\n",
    "    def __init__(self):\n",
    "        super().__init__()\n",
    "        self.pool = nn.MaxPool2d(2, 2)\n",
    "\n",
    "        self.conv1 = nn.Conv2d(3, 3, 3)\n",
    "        self.conv2 = nn.Conv2d(3, 4, 5)\n",
    "        self.conv3 = nn.Conv2d(4, 8, 5)\n",
    "        self.conv4 = nn.Conv2d(8, 8, 5)\n",
    "\n",
    "        self.fc1 = nn.Linear(1248, 600)\n",
    "        self.fc2 = nn.Linear(600, 120)\n",
    "        self.fc3 = nn.Linear(120, 53)\n",
    "\n",
    "    def forward(self, x):\n",
    "        x = self.pool(F.relu(self.conv1(x)))\n",
    "        x = self.pool(F.relu(self.conv2(x)))\n",
    "        x = self.pool(F.relu(self.conv3(x)))\n",
    "        x = self.pool(F.relu(self.conv4(x)))\n",
    "\n",
    "        x = torch.flatten(x, 1) # flatten all dimensions except batch\n",
    "        x = F.relu(self.fc1(x))\n",
    "        x = F.relu(self.fc2(x))\n",
    "        x = self.fc3(x)\n",
    "        return x\n",
    "    "
   ]
  },
  {
   "cell_type": "code",
   "execution_count": 4,
   "metadata": {},
   "outputs": [
    {
     "name": "stdout",
     "output_type": "stream",
     "text": [
      "830737\n"
     ]
    }
   ],
   "source": [
    "net = Net().to(device)\n",
    "\n",
    "total_params = sum(\n",
    "\tparam.numel() for param in net.parameters()\n",
    ")\n",
    "print(total_params)"
   ]
  },
  {
   "cell_type": "code",
   "execution_count": 5,
   "metadata": {},
   "outputs": [],
   "source": [
    "LOAD = False\n",
    "\n",
    "df = pd.read_parquet('data/data1.parquet', engine='fastparquet')\n",
    "\n",
    "rows = df.shape[0]\n",
    "\n",
    "cntry = df.iloc[:, 0].values\n",
    "cntry_unique = np.unique(cntry, return_inverse=True, return_index=True)\n",
    "cntry_str = cntry_unique[0]\n",
    "cntry_int = cntry_unique[1]\n",
    "\n",
    "im_bytes = df.iloc[:, 4].values\n",
    "im_shape = np.array(Image.open(io.BytesIO(im_bytes[0]))).shape\n",
    "\n",
    "if LOAD:\n",
    "    base_height = 128\n",
    "    hpercent = (base_height / float(im_shape[0]))\n",
    "    wsize = int((im_shape[1] * float(hpercent)))\n",
    "\n",
    "    ims = np.zeros((rows, base_height, wsize, 3))\n",
    "    for i, im in enumerate(im_bytes):\n",
    "       ims[i] = np.array(Image.open(io.BytesIO(im)).resize((wsize, base_height), Image.Resampling.LANCZOS))\n",
    "    \n",
    "    np.save('data.npy', ims)\n",
    "else:\n",
    "    ims =  np.load('data.npy')\n",
    "\n",
    "rand_ng = np.random.default_rng()\n",
    "perm = rand_ng.permutation(rows)\n",
    "\n",
    "ims = torch.tensor(ims[perm], dtype=torch.float32)\n",
    "ims = ims.to(device)\n",
    "cntry = cntry[perm]\n",
    "\n"
   ]
  },
  {
   "cell_type": "code",
   "execution_count": 10,
   "metadata": {},
   "outputs": [],
   "source": [
    "criterion = nn.CrossEntropyLoss()\n",
    "optimizer = optim.SGD(net.parameters(), lr=0.0001, momentum=0.9)\n"
   ]
  },
  {
   "cell_type": "code",
   "execution_count": 7,
   "metadata": {},
   "outputs": [
    {
     "name": "stdout",
     "output_type": "stream",
     "text": [
      "tensor(52, device='cuda:0')\n"
     ]
    }
   ],
   "source": [
    "\n",
    "cntry_new = []\n",
    "for i in range(cntry.shape[0]):\n",
    "    cntry_new.append(cntry_str.tolist().index(cntry[i]))\n",
    "cntry_new = torch.tensor(cntry_new)\n",
    "print(torch.max(cntry_new))"
   ]
  },
  {
   "cell_type": "code",
   "execution_count": 11,
   "metadata": {},
   "outputs": [
    {
     "name": "stdout",
     "output_type": "stream",
     "text": [
      "1720\n",
      "1721\n",
      "1724\n",
      "1729\n",
      "1730\n",
      "1730\n",
      "1730\n",
      "1730\n",
      "1729\n",
      "1730\n",
      "[10,  1843] loss: 0.241\n",
      "1734\n",
      "1737\n",
      "1741\n",
      "1747\n",
      "1746\n",
      "1746\n",
      "1746\n",
      "1749\n",
      "1752\n",
      "1754\n",
      "[20,  1843] loss: 0.213\n",
      "1759\n",
      "1760\n",
      "1763\n",
      "1764\n",
      "1765\n",
      "1768\n",
      "1768\n",
      "1769\n",
      "1772\n",
      "1773\n",
      "[30,  1843] loss: 0.189\n",
      "1775\n",
      "1777\n",
      "1780\n",
      "1781\n",
      "1782\n",
      "1782\n",
      "1784\n",
      "1785\n",
      "1787\n",
      "1787\n",
      "[40,  1843] loss: 0.168\n",
      "1787\n",
      "1787\n",
      "1790\n"
     ]
    },
    {
     "ename": "KeyboardInterrupt",
     "evalue": "",
     "output_type": "error",
     "traceback": [
      "\u001b[1;31m---------------------------------------------------------------------------\u001b[0m",
      "\u001b[1;31mKeyboardInterrupt\u001b[0m                         Traceback (most recent call last)",
      "Cell \u001b[1;32mIn[11], line 18\u001b[0m\n\u001b[0;32m     16\u001b[0m c \u001b[38;5;241m=\u001b[39m \u001b[38;5;241m0\u001b[39m\n\u001b[0;32m     17\u001b[0m \u001b[38;5;28;01mfor\u001b[39;00m i \u001b[38;5;129;01min\u001b[39;00m \u001b[38;5;28mrange\u001b[39m(cntry\u001b[38;5;241m.\u001b[39mshape[\u001b[38;5;241m0\u001b[39m]):\n\u001b[1;32m---> 18\u001b[0m     c \u001b[38;5;241m=\u001b[39m c \u001b[38;5;241m+\u001b[39m (cntry_str[\u001b[43mtorch\u001b[49m\u001b[38;5;241;43m.\u001b[39;49m\u001b[43margmax\u001b[49m\u001b[43m(\u001b[49m\u001b[43mnet\u001b[49m\u001b[43m(\u001b[49m\u001b[43mims\u001b[49m\u001b[43m[\u001b[49m\u001b[43mi\u001b[49m\u001b[43m]\u001b[49m\u001b[38;5;241;43m.\u001b[39;49m\u001b[43mtranspose\u001b[49m\u001b[43m(\u001b[49m\u001b[38;5;241;43m0\u001b[39;49m\u001b[43m,\u001b[49m\u001b[38;5;241;43m2\u001b[39;49m\u001b[43m)\u001b[49m\u001b[38;5;241;43m.\u001b[39;49m\u001b[43mtranspose\u001b[49m\u001b[43m(\u001b[49m\u001b[38;5;241;43m1\u001b[39;49m\u001b[43m,\u001b[49m\u001b[38;5;241;43m2\u001b[39;49m\u001b[43m)\u001b[49m\u001b[43m[\u001b[49m\u001b[38;5;28;43;01mNone\u001b[39;49;00m\u001b[43m,\u001b[49m\u001b[43m \u001b[49m\u001b[43m:\u001b[49m\u001b[43m]\u001b[49m\u001b[43m)\u001b[49m\u001b[43m)\u001b[49m] \u001b[38;5;241m==\u001b[39m cntry[i])\n\u001b[0;32m     19\u001b[0m \u001b[38;5;28mprint\u001b[39m(c)\n\u001b[0;32m     22\u001b[0m \u001b[38;5;66;03m# print statistics\u001b[39;00m\n",
      "\u001b[1;31mKeyboardInterrupt\u001b[0m: "
     ]
    }
   ],
   "source": [
    "for epoch in range(250):  # loop over the dataset multiple times\n",
    "\n",
    "    running_loss = 0.0\n",
    "    # get the inputs; data is a list of [inputs, labels]\n",
    "    inputs, labels = ims.transpose(1,3).transpose(2,3), cntry_new\n",
    "\n",
    "    # zero the parameter gradients\n",
    "    optimizer.zero_grad()\n",
    "\n",
    "    # forward + backward + optimize\n",
    "    outputs = net(inputs)\n",
    "    loss = criterion(outputs, labels)\n",
    "    loss.backward()\n",
    "    optimizer.step()\n",
    "\n",
    "    c = 0\n",
    "    for i in range(cntry.shape[0]):\n",
    "        c = c + (cntry_str[torch.argmax(net(ims[i].transpose(0,2).transpose(1,2)[None, :]))] == cntry[i])\n",
    "    print(c)\n",
    "\n",
    "\n",
    "    # print statistics\n",
    "    running_loss += loss.item()\n",
    "    if epoch % 10 == 9:  \n",
    "        print(f'[{epoch + 1}, {i + 1:5d}] loss: {running_loss:.3f}')\n",
    "        running_loss = 0.0\n",
    "\n",
    "print('Finished Training')"
   ]
  }
 ],
 "metadata": {
  "kernelspec": {
   "display_name": "Python 3",
   "language": "python",
   "name": "python3"
  },
  "language_info": {
   "codemirror_mode": {
    "name": "ipython",
    "version": 3
   },
   "file_extension": ".py",
   "mimetype": "text/x-python",
   "name": "python",
   "nbconvert_exporter": "python",
   "pygments_lexer": "ipython3",
   "version": "3.11.7"
  }
 },
 "nbformat": 4,
 "nbformat_minor": 2
}
